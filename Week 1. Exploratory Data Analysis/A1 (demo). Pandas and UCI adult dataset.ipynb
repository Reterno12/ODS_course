{
 "cells": [
  {
   "cell_type": "markdown",
   "metadata": {
    "_uuid": "570fb89bb4f7838b1d0fdff70b2935790e5dbdbe"
   },
   "source": [
    "<center>\n",
    "<img src=\"https://habrastorage.org/files/fd4/502/43d/fd450243dd604b81b9713213a247aa20.jpg\">\n",
    "    \n",
    "## [mlcourse.ai](mlcourse.ai) – Open Machine Learning Course \n",
    "\n",
    "<center>Author: [Yury Kashnitskiy](http://yorko.github.io) <br>\n",
    "Translated and edited by [Sergey Isaev](https://www.linkedin.com/in/isvforall/), [Artem Trunov](https://www.linkedin.com/in/datamove/), [Anastasia Manokhina](https://www.linkedin.com/in/anastasiamanokhina/), and [Yuanyuan Pao](https://www.linkedin.com/in/yuanyuanpao/) <br>All content is distributed under the [Creative Commons CC BY-NC-SA 4.0](https://creativecommons.org/licenses/by-nc-sa/4.0/) license."
   ]
  },
  {
   "cell_type": "markdown",
   "metadata": {
    "_uuid": "998fc5f76227ab1df9460a7b05c508304b14b3a6"
   },
   "source": [
    "# <center> Assignment #1 (demo)\n",
    "## <center>  Exploratory data analysis with Pandas\n"
   ]
  },
  {
   "cell_type": "markdown",
   "metadata": {
    "_uuid": "89ef93231815456f4e0bc5dcc00b094aee800993"
   },
   "source": [
    "**In this task you should use Pandas to answer a few questions about the [Adult](https://archive.ics.uci.edu/ml/datasets/Adult) dataset. (You don't have to download the data – it's already here). Choose the answers in the [web-form](https://docs.google.com/forms/d/1uY7MpI2trKx6FLWZte0uVh3ULV4Cm_tDud0VDFGCOKg). This is a demo version of an assignment, so by submitting the form, you'll see a link to the solution .ipynb file.**"
   ]
  },
  {
   "cell_type": "markdown",
   "metadata": {
    "_uuid": "c322301ac858c748f8f80e63cf6f734fc70dde30"
   },
   "source": [
    "Unique values of all features (for more information, please see the links above):\n",
    "- `age`: continuous.\n",
    "- `workclass`: Private, Self-emp-not-inc, Self-emp-inc, Federal-gov, Local-gov, State-gov, Without-pay, Never-worked.\n",
    "- `fnlwgt`: continuous.\n",
    "- `education`: Bachelors, Some-college, 11th, HS-grad, Prof-school, Assoc-acdm, Assoc-voc, 9th, 7th-8th, 12th, Masters, 1st-4th, 10th, Doctorate, 5th-6th, Preschool.\n",
    "- `education-num`: continuous.\n",
    "- `marital-status`: Married-civ-spouse, Divorced, Never-married, Separated, Widowed, Married-spouse-absent, Married-AF-spouse.\n",
    "- `occupation`: Tech-support, Craft-repair, Other-service, Sales, Exec-managerial, Prof-specialty, Handlers-cleaners, Machine-op-inspct, Adm-clerical, Farming-fishing, Transport-moving, Priv-house-serv, Protective-serv, Armed-Forces.\n",
    "- `relationship`: Wife, Own-child, Husband, Not-in-family, Other-relative, Unmarried.\n",
    "- `race`: White, Asian-Pac-Islander, Amer-Indian-Eskimo, Other, Black.\n",
    "- `sex`: Female, Male.\n",
    "- `capital-gain`: continuous.\n",
    "- `capital-loss`: continuous.\n",
    "- `hours-per-week`: continuous.\n",
    "- `native-country`: United-States, Cambodia, England, Puerto-Rico, Canada, Germany, Outlying-US(Guam-USVI-etc), India, Japan, Greece, South, China, Cuba, Iran, Honduras, Philippines, Italy, Poland, Jamaica, Vietnam, Mexico, Portugal, Ireland, France, Dominican-Republic, Laos, Ecuador, Taiwan, Haiti, Columbia, Hungary, Guatemala, Nicaragua, Scotland, Thailand, Yugoslavia, El-Salvador, Trinadad&Tobago, Peru, Hong, Holand-Netherlands.   \n",
    "- `salary`: >50K,<=50K"
   ]
  },
  {
   "cell_type": "code",
   "execution_count": 1,
   "metadata": {
    "_uuid": "d3eb2411e23b7db11e4cbbb498a42752442a6f4c"
   },
   "outputs": [],
   "source": [
    "import pandas as pd"
   ]
  },
  {
   "cell_type": "code",
   "execution_count": 2,
   "metadata": {
    "_uuid": "c5119d1b8151029b4ff57735c4279b795ae492a2"
   },
   "outputs": [
    {
     "data": {
      "text/html": [
       "<div>\n",
       "<style scoped>\n",
       "    .dataframe tbody tr th:only-of-type {\n",
       "        vertical-align: middle;\n",
       "    }\n",
       "\n",
       "    .dataframe tbody tr th {\n",
       "        vertical-align: top;\n",
       "    }\n",
       "\n",
       "    .dataframe thead th {\n",
       "        text-align: right;\n",
       "    }\n",
       "</style>\n",
       "<table border=\"1\" class=\"dataframe\">\n",
       "  <thead>\n",
       "    <tr style=\"text-align: right;\">\n",
       "      <th></th>\n",
       "      <th>age</th>\n",
       "      <th>workclass</th>\n",
       "      <th>fnlwgt</th>\n",
       "      <th>education</th>\n",
       "      <th>education-num</th>\n",
       "      <th>marital-status</th>\n",
       "      <th>occupation</th>\n",
       "      <th>relationship</th>\n",
       "      <th>race</th>\n",
       "      <th>sex</th>\n",
       "      <th>capital-gain</th>\n",
       "      <th>capital-loss</th>\n",
       "      <th>hours-per-week</th>\n",
       "      <th>native-country</th>\n",
       "      <th>salary</th>\n",
       "    </tr>\n",
       "  </thead>\n",
       "  <tbody>\n",
       "    <tr>\n",
       "      <th>0</th>\n",
       "      <td>39</td>\n",
       "      <td>State-gov</td>\n",
       "      <td>77516</td>\n",
       "      <td>Bachelors</td>\n",
       "      <td>13</td>\n",
       "      <td>Never-married</td>\n",
       "      <td>Adm-clerical</td>\n",
       "      <td>Not-in-family</td>\n",
       "      <td>White</td>\n",
       "      <td>Male</td>\n",
       "      <td>2174</td>\n",
       "      <td>0</td>\n",
       "      <td>40</td>\n",
       "      <td>United-States</td>\n",
       "      <td>&lt;=50K</td>\n",
       "    </tr>\n",
       "    <tr>\n",
       "      <th>1</th>\n",
       "      <td>50</td>\n",
       "      <td>Self-emp-not-inc</td>\n",
       "      <td>83311</td>\n",
       "      <td>Bachelors</td>\n",
       "      <td>13</td>\n",
       "      <td>Married-civ-spouse</td>\n",
       "      <td>Exec-managerial</td>\n",
       "      <td>Husband</td>\n",
       "      <td>White</td>\n",
       "      <td>Male</td>\n",
       "      <td>0</td>\n",
       "      <td>0</td>\n",
       "      <td>13</td>\n",
       "      <td>United-States</td>\n",
       "      <td>&lt;=50K</td>\n",
       "    </tr>\n",
       "    <tr>\n",
       "      <th>2</th>\n",
       "      <td>38</td>\n",
       "      <td>Private</td>\n",
       "      <td>215646</td>\n",
       "      <td>HS-grad</td>\n",
       "      <td>9</td>\n",
       "      <td>Divorced</td>\n",
       "      <td>Handlers-cleaners</td>\n",
       "      <td>Not-in-family</td>\n",
       "      <td>White</td>\n",
       "      <td>Male</td>\n",
       "      <td>0</td>\n",
       "      <td>0</td>\n",
       "      <td>40</td>\n",
       "      <td>United-States</td>\n",
       "      <td>&lt;=50K</td>\n",
       "    </tr>\n",
       "    <tr>\n",
       "      <th>3</th>\n",
       "      <td>53</td>\n",
       "      <td>Private</td>\n",
       "      <td>234721</td>\n",
       "      <td>11th</td>\n",
       "      <td>7</td>\n",
       "      <td>Married-civ-spouse</td>\n",
       "      <td>Handlers-cleaners</td>\n",
       "      <td>Husband</td>\n",
       "      <td>Black</td>\n",
       "      <td>Male</td>\n",
       "      <td>0</td>\n",
       "      <td>0</td>\n",
       "      <td>40</td>\n",
       "      <td>United-States</td>\n",
       "      <td>&lt;=50K</td>\n",
       "    </tr>\n",
       "    <tr>\n",
       "      <th>4</th>\n",
       "      <td>28</td>\n",
       "      <td>Private</td>\n",
       "      <td>338409</td>\n",
       "      <td>Bachelors</td>\n",
       "      <td>13</td>\n",
       "      <td>Married-civ-spouse</td>\n",
       "      <td>Prof-specialty</td>\n",
       "      <td>Wife</td>\n",
       "      <td>Black</td>\n",
       "      <td>Female</td>\n",
       "      <td>0</td>\n",
       "      <td>0</td>\n",
       "      <td>40</td>\n",
       "      <td>Cuba</td>\n",
       "      <td>&lt;=50K</td>\n",
       "    </tr>\n",
       "  </tbody>\n",
       "</table>\n",
       "</div>"
      ],
      "text/plain": [
       "   age         workclass  fnlwgt  ...   hours-per-week  native-country salary\n",
       "0   39         State-gov   77516  ...               40   United-States  <=50K\n",
       "1   50  Self-emp-not-inc   83311  ...               13   United-States  <=50K\n",
       "2   38           Private  215646  ...               40   United-States  <=50K\n",
       "3   53           Private  234721  ...               40   United-States  <=50K\n",
       "4   28           Private  338409  ...               40            Cuba  <=50K\n",
       "\n",
       "[5 rows x 15 columns]"
      ]
     },
     "execution_count": 2,
     "metadata": {},
     "output_type": "execute_result"
    }
   ],
   "source": [
    "data = pd.read_csv('../input/adult.data.csv')\n",
    "data.head()"
   ]
  },
  {
   "cell_type": "markdown",
   "metadata": {
    "_uuid": "6b19853f936853d40971b56f4d298ab55ee78cac"
   },
   "source": [
    "**1. How many men and women (*sex* feature) are represented in this dataset?** "
   ]
  },
  {
   "cell_type": "code",
   "execution_count": 4,
   "metadata": {
    "_uuid": "d32cafcbe966dbdfa40c3017d16d6f8c96bfb3e2"
   },
   "outputs": [
    {
     "data": {
      "text/plain": [
       "count     32561\n",
       "unique        2\n",
       "top        Male\n",
       "freq      21790\n",
       "Name: sex, dtype: object"
      ]
     },
     "execution_count": 4,
     "metadata": {},
     "output_type": "execute_result"
    }
   ],
   "source": [
    "data.sex.describe()"
   ]
  },
  {
   "cell_type": "markdown",
   "metadata": {
    "_uuid": "4748793234a5d325ea60d13331ecf93e29774523"
   },
   "source": [
    "**2. What is the average age (*age* feature) of women?**"
   ]
  },
  {
   "cell_type": "code",
   "execution_count": 11,
   "metadata": {
    "_uuid": "64f60d928855107d8980875656dcdf3587d91646"
   },
   "outputs": [
    {
     "data": {
      "text/html": [
       "<div>\n",
       "<style scoped>\n",
       "    .dataframe tbody tr th:only-of-type {\n",
       "        vertical-align: middle;\n",
       "    }\n",
       "\n",
       "    .dataframe tbody tr th {\n",
       "        vertical-align: top;\n",
       "    }\n",
       "\n",
       "    .dataframe thead th {\n",
       "        text-align: right;\n",
       "    }\n",
       "</style>\n",
       "<table border=\"1\" class=\"dataframe\">\n",
       "  <thead>\n",
       "    <tr style=\"text-align: right;\">\n",
       "      <th></th>\n",
       "      <th>count</th>\n",
       "      <th>mean</th>\n",
       "      <th>std</th>\n",
       "      <th>min</th>\n",
       "      <th>50%</th>\n",
       "      <th>max</th>\n",
       "    </tr>\n",
       "    <tr>\n",
       "      <th>sex</th>\n",
       "      <th></th>\n",
       "      <th></th>\n",
       "      <th></th>\n",
       "      <th></th>\n",
       "      <th></th>\n",
       "      <th></th>\n",
       "    </tr>\n",
       "  </thead>\n",
       "  <tbody>\n",
       "    <tr>\n",
       "      <th>Female</th>\n",
       "      <td>10771.0</td>\n",
       "      <td>36.858230</td>\n",
       "      <td>14.013697</td>\n",
       "      <td>17.0</td>\n",
       "      <td>35.0</td>\n",
       "      <td>90.0</td>\n",
       "    </tr>\n",
       "    <tr>\n",
       "      <th>Male</th>\n",
       "      <td>21790.0</td>\n",
       "      <td>39.433547</td>\n",
       "      <td>13.370630</td>\n",
       "      <td>17.0</td>\n",
       "      <td>38.0</td>\n",
       "      <td>90.0</td>\n",
       "    </tr>\n",
       "  </tbody>\n",
       "</table>\n",
       "</div>"
      ],
      "text/plain": [
       "          count       mean        std   min   50%   max\n",
       "sex                                                    \n",
       "Female  10771.0  36.858230  14.013697  17.0  35.0  90.0\n",
       "Male    21790.0  39.433547  13.370630  17.0  38.0  90.0"
      ]
     },
     "execution_count": 11,
     "metadata": {},
     "output_type": "execute_result"
    }
   ],
   "source": [
    "data.groupby(['sex'])['age'].describe(percentiles=[])"
   ]
  },
  {
   "cell_type": "markdown",
   "metadata": {
    "_uuid": "80e87c421c348067e88769c64e554206c51727d1"
   },
   "source": [
    "**3. What is the percentage of German citizens (*native-country* feature)?**"
   ]
  },
  {
   "cell_type": "code",
   "execution_count": 21,
   "metadata": {
    "_uuid": "ca9807509692638bd945671ed7d8b4a5ad1f3626"
   },
   "outputs": [
    {
     "data": {
      "text/plain": [
       "0.004207487485028101"
      ]
     },
     "execution_count": 21,
     "metadata": {},
     "output_type": "execute_result"
    }
   ],
   "source": [
    "(data['native-country'] == 'Germany').sum()/data.shape[0]"
   ]
  },
  {
   "cell_type": "markdown",
   "metadata": {
    "_uuid": "be9911cf525df4fca2c1d14b8720bc8a82f462e7"
   },
   "source": [
    "**4-5. What are the mean and standard deviation of age for those who earn more than 50K per year (*salary* feature) and those who earn less than 50K per year? **"
   ]
  },
  {
   "cell_type": "code",
   "execution_count": 31,
   "metadata": {
    "_uuid": "97948f0115f949913d211627151b5605bcd204fd"
   },
   "outputs": [
    {
     "data": {
      "text/html": [
       "<div>\n",
       "<style scoped>\n",
       "    .dataframe tbody tr th:only-of-type {\n",
       "        vertical-align: middle;\n",
       "    }\n",
       "\n",
       "    .dataframe tbody tr th {\n",
       "        vertical-align: top;\n",
       "    }\n",
       "\n",
       "    .dataframe thead th {\n",
       "        text-align: right;\n",
       "    }\n",
       "</style>\n",
       "<table border=\"1\" class=\"dataframe\">\n",
       "  <thead>\n",
       "    <tr style=\"text-align: right;\">\n",
       "      <th></th>\n",
       "      <th>age</th>\n",
       "      <th>fnlwgt</th>\n",
       "      <th>education-num</th>\n",
       "      <th>capital-gain</th>\n",
       "      <th>capital-loss</th>\n",
       "      <th>hours-per-week</th>\n",
       "    </tr>\n",
       "  </thead>\n",
       "  <tbody>\n",
       "    <tr>\n",
       "      <th>count</th>\n",
       "      <td>7841.000000</td>\n",
       "      <td>7.841000e+03</td>\n",
       "      <td>7841.000000</td>\n",
       "      <td>7841.000000</td>\n",
       "      <td>7841.000000</td>\n",
       "      <td>7841.000000</td>\n",
       "    </tr>\n",
       "    <tr>\n",
       "      <th>mean</th>\n",
       "      <td>44.249841</td>\n",
       "      <td>1.880050e+05</td>\n",
       "      <td>11.611657</td>\n",
       "      <td>4006.142456</td>\n",
       "      <td>195.001530</td>\n",
       "      <td>45.473026</td>\n",
       "    </tr>\n",
       "    <tr>\n",
       "      <th>std</th>\n",
       "      <td>10.519028</td>\n",
       "      <td>1.025418e+05</td>\n",
       "      <td>2.385129</td>\n",
       "      <td>14570.378951</td>\n",
       "      <td>595.487574</td>\n",
       "      <td>11.012971</td>\n",
       "    </tr>\n",
       "    <tr>\n",
       "      <th>min</th>\n",
       "      <td>19.000000</td>\n",
       "      <td>1.487800e+04</td>\n",
       "      <td>2.000000</td>\n",
       "      <td>0.000000</td>\n",
       "      <td>0.000000</td>\n",
       "      <td>1.000000</td>\n",
       "    </tr>\n",
       "    <tr>\n",
       "      <th>50%</th>\n",
       "      <td>44.000000</td>\n",
       "      <td>1.761010e+05</td>\n",
       "      <td>12.000000</td>\n",
       "      <td>0.000000</td>\n",
       "      <td>0.000000</td>\n",
       "      <td>40.000000</td>\n",
       "    </tr>\n",
       "    <tr>\n",
       "      <th>max</th>\n",
       "      <td>90.000000</td>\n",
       "      <td>1.226583e+06</td>\n",
       "      <td>16.000000</td>\n",
       "      <td>99999.000000</td>\n",
       "      <td>3683.000000</td>\n",
       "      <td>99.000000</td>\n",
       "    </tr>\n",
       "  </tbody>\n",
       "</table>\n",
       "</div>"
      ],
      "text/plain": [
       "               age        fnlwgt       ...        capital-loss  hours-per-week\n",
       "count  7841.000000  7.841000e+03       ...         7841.000000     7841.000000\n",
       "mean     44.249841  1.880050e+05       ...          195.001530       45.473026\n",
       "std      10.519028  1.025418e+05       ...          595.487574       11.012971\n",
       "min      19.000000  1.487800e+04       ...            0.000000        1.000000\n",
       "50%      44.000000  1.761010e+05       ...            0.000000       40.000000\n",
       "max      90.000000  1.226583e+06       ...         3683.000000       99.000000\n",
       "\n",
       "[6 rows x 6 columns]"
      ]
     },
     "execution_count": 31,
     "metadata": {},
     "output_type": "execute_result"
    }
   ],
   "source": [
    "data[data.salary == '>50K'].describe(percentiles=[])"
   ]
  },
  {
   "cell_type": "markdown",
   "metadata": {
    "_uuid": "180c3fe6f8b250b877c1d86866067b80acabdb64"
   },
   "source": [
    "**6. Is it true that people who earn more than 50K have at least high school education? (*education – Bachelors, Prof-school, Assoc-acdm, Assoc-voc, Masters* or *Doctorate* feature)**"
   ]
  },
  {
   "cell_type": "code",
   "execution_count": 42,
   "metadata": {
    "_uuid": "58f38ebfa2b0e1418a6a1a680d0743697f9876a2"
   },
   "outputs": [
    {
     "data": {
      "text/plain": [
       "array(['HS-grad', 'Masters', 'Bachelors', 'Some-college', 'Assoc-voc',\n",
       "       'Doctorate', 'Prof-school', 'Assoc-acdm', '7th-8th', '12th',\n",
       "       '10th', '11th', '9th', '5th-6th', '1st-4th'], dtype=object)"
      ]
     },
     "execution_count": 42,
     "metadata": {},
     "output_type": "execute_result"
    }
   ],
   "source": [
    "data.groupby(['salary'])['education'].unique()['>50K']"
   ]
  },
  {
   "cell_type": "markdown",
   "metadata": {
    "_uuid": "87d6bc9ec1c230e66416ce94533ea250368009cc"
   },
   "source": [
    "**7. Display age statistics for each race (*race* feature) and each gender (*sex* feature). Use *groupby()* and *describe()*. Find the maximum age of men of *Amer-Indian-Eskimo* race.**"
   ]
  },
  {
   "cell_type": "code",
   "execution_count": 55,
   "metadata": {
    "_uuid": "a4567b72200b583f7f2ee1583405d636c12169db"
   },
   "outputs": [
    {
     "data": {
      "text/plain": [
       "82"
      ]
     },
     "execution_count": 55,
     "metadata": {},
     "output_type": "execute_result"
    }
   ],
   "source": [
    "data.groupby(['race'])['sex'].describe()\n",
    "data[(data.sex =='Male') & (data.race == 'Amer-Indian-Eskimo')]['age'].max()"
   ]
  },
  {
   "cell_type": "markdown",
   "metadata": {
    "_uuid": "19411d604b0d4337a4a048a2f0e898541f39ab76"
   },
   "source": [
    "**8. Among whom is the proportion of those who earn a lot (>50K) greater: married or single men (*marital-status* feature)? Consider as married those who have a *marital-status* starting with *Married* (Married-civ-spouse, Married-spouse-absent or Married-AF-spouse), the rest are considered bachelors.**"
   ]
  },
  {
   "cell_type": "code",
   "execution_count": 104,
   "metadata": {
    "_uuid": "5bb3a8524fcbd794707075ccf6aaf8dd0f30a3dd"
   },
   "outputs": [
    {
     "name": "stdout",
     "output_type": "stream",
     "text": [
      "0.8953767637346143 \n",
      " Proportion of Married men, who earn >50K, to all men\n"
     ]
    }
   ],
   "source": [
    "Married_men_more_50 = data[(data.sex == 'Male') & (data.salary == '>50K')& (data['marital-status'].apply(lambda status: 'Married' in status))].shape[0]\n",
    "print( Married_men_more_50 /data[(data.salary == '>50K') & (data.sex == 'Male')].shape[0],'\\n Proportion of Married men, who earn >50K, to all men')"
   ]
  },
  {
   "cell_type": "markdown",
   "metadata": {
    "_uuid": "34f2076e7d331b95a23b990372809b709d2c8183"
   },
   "source": [
    "**9. What is the maximum number of hours a person works per week (*hours-per-week* feature)? How many people work such a number of hours, and what is the percentage of those who earn a lot (>50K) among them?**"
   ]
  },
  {
   "cell_type": "code",
   "execution_count": 131,
   "metadata": {
    "_uuid": "3571468172fc4bcf34e10b3d6ab358d4e41f7ef4"
   },
   "outputs": [
    {
     "name": "stdout",
     "output_type": "stream",
     "text": [
      "maximum number of hours a person works per week = 99\n",
      "number of people, who work so long, =  85\n",
      "percentage of those who earn a lot (>50K) among them = 0.294\n"
     ]
    }
   ],
   "source": [
    "print(\"maximum number of hours a person works per week = {}\".format(data['hours-per-week'].max()))\n",
    "print('number of people, who work so long, =  {}'.format( data[data['hours-per-week'] == data['hours-per-week'].max()].shape[0]))\n",
    "print('percentage of those who earn a lot (>50K) among them = {:0.3f}'.format(data[(data['hours-per-week'] == data['hours-per-week'].max()) &(data.salary == '>50K')].shape[0]/ data[data['hours-per-week'] == data['hours-per-week'].max()].shape[0]))\n"
   ]
  },
  {
   "cell_type": "markdown",
   "metadata": {
    "_uuid": "d539d4d137fac1c5ea25bc516188eb657d67e9b4"
   },
   "source": [
    "**10. Count the average time of work (*hours-per-week*) for those who earn a little and a lot (*salary*) for each country (*native-country*). What will these be for Japan?**"
   ]
  },
  {
   "cell_type": "code",
   "execution_count": 145,
   "metadata": {
    "_uuid": "75a93411f1e3b519afcc27c026aaa0c67eb526e9"
   },
   "outputs": [
    {
     "name": "stdout",
     "output_type": "stream",
     "text": [
      "United-States \n",
      "\n",
      "          count       mean        std  min   25%   50%   75%   max\n",
      "salary                                                            \n",
      "<=50K   21999.0  38.799127  12.400570  1.0  35.0  40.0  40.0  99.0\n",
      ">50K     7171.0  45.505369  11.025092  1.0  40.0  40.0  50.0  99.0\n",
      "\n",
      "\n",
      "\n",
      "Cuba \n",
      "\n",
      "        count       mean        std   min   25%   50%   75%   max\n",
      "salary                                                           \n",
      "<=50K    70.0  37.985714   9.960055   5.0  40.0  40.0  40.0  70.0\n",
      ">50K     25.0  42.440000  12.453514  14.0  40.0  40.0  50.0  60.0\n",
      "\n",
      "\n",
      "\n",
      "Jamaica \n",
      "\n",
      "        count       mean       std   min   25%   50%   75%   max\n",
      "salary                                                          \n",
      "<=50K    71.0  38.239437  9.673919  10.0  35.0  40.0  40.0  70.0\n",
      ">50K     10.0  41.100000  4.954235  35.0  38.5  40.0  40.0  50.0\n",
      "\n",
      "\n",
      "\n",
      "India \n",
      "\n",
      "        count       mean        std   min   25%   50%   75%   max\n",
      "salary                                                           \n",
      "<=50K    60.0  38.233333  12.617403   8.0  35.0  40.0  40.0  84.0\n",
      ">50K     40.0  46.475000  10.056220  20.0  40.0  41.5  50.0  72.0\n",
      "\n",
      "\n",
      "\n",
      "? \n",
      "\n",
      "        count       mean        std  min   25%   50%   75%   max\n",
      "salary                                                          \n",
      "<=50K   437.0  40.164760  12.817002  1.0  40.0  40.0  45.0  99.0\n",
      ">50K    146.0  45.547945  10.202827  8.0  40.0  40.0  50.0  80.0\n",
      "\n",
      "\n",
      "\n",
      "Mexico \n",
      "\n",
      "        count       mean        std   min   25%   50%   75%   max\n",
      "salary                                                           \n",
      "<=50K   610.0  40.003279  10.377441   4.0  40.0  40.0  40.0  99.0\n",
      ">50K     33.0  46.575758  10.917390  30.0  40.0  40.0  50.0  80.0\n",
      "\n",
      "\n",
      "\n",
      "South \n",
      "\n",
      "        count      mean        std   min   25%   50%   75%   max\n",
      "salary                                                          \n",
      "<=50K    64.0  40.15625  16.831771   4.0  35.0  40.0  48.5  99.0\n",
      ">50K     16.0  51.43750  10.942082  35.0  40.0  50.0  60.0  70.0\n",
      "\n",
      "\n",
      "\n",
      "Puerto-Rico \n",
      "\n",
      "        count       mean        std  min   25%   50%   75%   max\n",
      "salary                                                          \n",
      "<=50K   102.0  38.470588   9.745988  6.0  36.0  40.0  40.0  80.0\n",
      ">50K     12.0  39.416667  11.057357  8.0  40.0  40.0  42.5  50.0\n",
      "\n",
      "\n",
      "\n",
      "Honduras \n",
      "\n",
      "        count       mean       std   min   25%   50%   75%   max\n",
      "salary                                                          \n",
      "<=50K    12.0  34.333333  8.626949  17.0  30.0  37.5  40.0  45.0\n",
      ">50K      1.0  60.000000       NaN  60.0  60.0  60.0  60.0  60.0\n",
      "\n",
      "\n",
      "\n",
      "England \n",
      "\n",
      "        count       mean        std   min   25%   50%   75%   max\n",
      "salary                                                           \n",
      "<=50K    60.0  40.483333  15.177472   7.0  40.0  40.0  45.0  99.0\n",
      ">50K     30.0  44.533333  11.072592  20.0  40.0  40.0  50.0  85.0\n",
      "\n",
      "\n",
      "\n",
      "Canada \n",
      "\n",
      "        count       mean        std   min    25%   50%   75%   max\n",
      "salary                                                            \n",
      "<=50K    82.0  37.914634  13.012056   8.0  32.75  40.0  40.0  70.0\n",
      ">50K     39.0  45.641026  12.066673  20.0  40.00  45.0  51.0  72.0\n",
      "\n",
      "\n",
      "\n",
      "Germany \n",
      "\n",
      "        count       mean        std  min   25%   50%   75%   max\n",
      "salary                                                          \n",
      "<=50K    93.0  39.139785  12.121299  6.0  38.0  40.0  45.0  70.0\n",
      ">50K     44.0  44.977273  11.944618  8.0  40.0  45.0  50.0  70.0\n",
      "\n",
      "\n",
      "\n",
      "Iran \n",
      "\n",
      "        count   mean        std   min   25%   50%    75%   max\n",
      "salary                                                        \n",
      "<=50K    25.0  41.44  12.440123   6.0  40.0  40.0  48.00  65.0\n",
      ">50K     18.0  47.50  10.325582  30.0  40.0  45.0  53.75  70.0\n",
      "\n",
      "\n",
      "\n",
      "Philippines \n",
      "\n",
      "        count       mean        std   min   25%   50%   75%   max\n",
      "salary                                                           \n",
      "<=50K   137.0  38.065693  11.265646   8.0  40.0  40.0  40.0  99.0\n",
      ">50K     61.0  43.032787   8.445842  35.0  40.0  40.0  40.0  80.0\n",
      "\n",
      "\n",
      "\n",
      "Italy \n",
      "\n",
      "        count    mean        std   min    25%   50%   75%   max\n",
      "salary                                                         \n",
      "<=50K    48.0  39.625  15.090683   6.0  38.75  40.0  40.0  80.0\n",
      ">50K     25.0  45.400   9.495613  20.0  40.00  40.0  50.0  67.0\n",
      "\n",
      "\n",
      "\n",
      "Poland \n",
      "\n",
      "        count       mean        std   min   25%   50%   75%   max\n",
      "salary                                                           \n",
      "<=50K    48.0  38.166667  12.237600   3.0  40.0  40.0  40.0  65.0\n",
      ">50K     12.0  39.000000   9.779385  10.0  40.0  40.0  40.0  50.0\n",
      "\n",
      "\n",
      "\n",
      "Columbia \n",
      "\n",
      "        count       mean       std   min   25%   50%   75%   max\n",
      "salary                                                          \n",
      "<=50K    57.0  38.684211  8.610952   5.0  40.0  40.0  40.0  60.0\n",
      ">50K      2.0  50.000000  0.000000  50.0  50.0  50.0  50.0  50.0\n",
      "\n",
      "\n",
      "\n",
      "Cambodia \n",
      "\n",
      "        count       mean       std   min   25%   50%   75%   max\n",
      "salary                                                          \n",
      "<=50K    12.0  41.416667  3.088346  40.0  40.0  40.0  40.5  50.0\n",
      ">50K      7.0  40.000000  0.000000  40.0  40.0  40.0  40.0  40.0\n",
      "\n",
      "\n",
      "\n",
      "Thailand \n",
      "\n",
      "        count       mean        std   min   25%   50%   75%   max\n",
      "salary                                                           \n",
      "<=50K    15.0  42.866667  20.413114  10.0  35.0  40.0  52.5  80.0\n",
      ">50K      3.0  58.333333  14.433757  50.0  50.0  50.0  62.5  75.0\n",
      "\n",
      "\n",
      "\n",
      "Ecuador \n",
      "\n",
      "        count       mean        std   min    25%   50%   75%   max\n",
      "salary                                                            \n",
      "<=50K    24.0  38.041667  10.251105  22.0  30.00  40.0  40.0  66.0\n",
      ">50K      4.0  48.750000   2.500000  45.0  48.75  50.0  50.0  50.0\n",
      "\n",
      "\n",
      "\n",
      "Laos \n",
      "\n",
      "        count    mean       std   min   25%   50%   75%   max\n",
      "salary                                                       \n",
      "<=50K    16.0  40.375  4.112988  31.0  40.0  40.0  40.0  50.0\n",
      ">50K      2.0  40.000  0.000000  40.0  40.0  40.0  40.0  40.0\n",
      "\n",
      "\n",
      "\n",
      "Taiwan \n",
      "\n",
      "        count       mean        std   min   25%   50%   75%   max\n",
      "salary                                                           \n",
      "<=50K    31.0  33.774194  14.270505   2.0  20.0  40.0  40.0  60.0\n",
      ">50K     20.0  46.800000  13.485275  27.0  40.0  40.0  55.0  84.0\n",
      "\n",
      "\n",
      "\n",
      "Haiti \n",
      "\n",
      "        count    mean        std   min    25%   50%   75%   max\n",
      "salary                                                         \n",
      "<=50K    40.0  36.325  11.943000  10.0  30.00  40.0  40.0  75.0\n",
      ">50K      4.0  42.750   9.142392  35.0  38.75  40.0  44.0  56.0\n",
      "\n",
      "\n",
      "\n",
      "Portugal \n",
      "\n",
      "        count       mean       std   min   25%   50%   75%   max\n",
      "salary                                                          \n",
      "<=50K    33.0  41.939394  9.062075  30.0  40.0  40.0  40.0  84.0\n",
      ">50K      4.0  41.500000  5.972158  36.0  39.0  40.0  42.5  50.0\n",
      "\n",
      "\n",
      "\n",
      "Dominican-Republic \n",
      "\n",
      "        count       mean        std   min   25%   50%   75%   max\n",
      "salary                                                           \n",
      "<=50K    68.0  42.338235  11.121594  22.0  40.0  40.0  40.0  98.0\n",
      ">50K      2.0  47.000000   9.899495  40.0  43.5  47.0  50.5  54.0\n",
      "\n",
      "\n",
      "\n",
      "El-Salvador \n",
      "\n",
      "        count       mean       std   min   25%   50%   75%   max\n",
      "salary                                                          \n",
      "<=50K    97.0  36.030928  9.396867   3.0  32.0  40.0  40.0  60.0\n",
      ">50K      9.0  45.000000  7.071068  35.0  40.0  45.0  50.0  55.0\n",
      "\n",
      "\n",
      "\n",
      "France \n",
      "\n",
      "        count       mean        std   min   25%   50%   75%   max\n",
      "salary                                                           \n",
      "<=50K    17.0  41.058824  12.401969  15.0  40.0  40.0  50.0  66.0\n",
      ">50K     12.0  50.750000  16.360290  40.0  40.0  47.5  50.0  99.0\n",
      "\n",
      "\n",
      "\n",
      "Guatemala \n",
      "\n",
      "        count       mean       std   min   25%   50%   75%   max\n",
      "salary                                                          \n",
      "<=50K    61.0  39.360656  6.570218  18.0  40.0  40.0  40.0  60.0\n",
      ">50K      3.0  36.666667  5.773503  30.0  35.0  40.0  40.0  40.0\n",
      "\n",
      "\n",
      "\n",
      "China \n",
      "\n",
      "        count       mean        std   min   25%   50%    75%   max\n",
      "salary                                                            \n",
      "<=50K    55.0  37.381818  11.439844   1.0  36.0  40.0  40.00  60.0\n",
      ">50K     20.0  38.900000  10.125008  10.0  38.0  40.0  41.25  60.0\n",
      "\n",
      "\n",
      "\n",
      "Japan \n",
      "\n",
      "        count       mean        std   min   25%   50%   75%   max\n",
      "salary                                                           \n",
      "<=50K    38.0  41.000000  11.902759  10.0  40.0  40.0  41.5  65.0\n",
      ">50K     24.0  47.958333  16.120414  21.0  40.0  42.5  50.0  99.0\n",
      "\n",
      "\n",
      "\n",
      "Yugoslavia \n",
      "\n",
      "        count  mean        std   min   25%   50%   75%   max\n",
      "salary                                                      \n",
      "<=50K    10.0  41.6  11.305849  20.0  40.0  40.0  40.0  66.0\n",
      ">50K      6.0  49.5  11.202678  40.0  40.0  46.0  58.0  65.0\n",
      "\n",
      "\n",
      "\n",
      "Peru \n",
      "\n",
      "        count       mean        std   min   25%   50%   75%   max\n",
      "salary                                                           \n",
      "<=50K    29.0  35.068966  11.609513   4.0  28.0  40.0  40.0  60.0\n",
      ">50K      2.0  40.000000   0.000000  40.0  40.0  40.0  40.0  40.0\n",
      "\n",
      "\n",
      "\n",
      "Outlying-US(Guam-USVI-etc) \n",
      "\n",
      "        count       mean        std   min    25%   50%    75%   max\n",
      "salary                                                             \n",
      "<=50K    14.0  41.857143  10.747859  24.0  36.25  40.0  50.25  60.0\n",
      "\n",
      "\n",
      "\n",
      "Scotland \n",
      "\n",
      "        count       mean        std   min   25%   50%   75%   max\n",
      "salary                                                           \n",
      "<=50K     9.0  39.444444   9.166667  20.0  40.0  40.0  40.0  55.0\n",
      ">50K      3.0  46.666667  11.547005  40.0  40.0  40.0  50.0  60.0\n",
      "\n",
      "\n",
      "\n",
      "Trinadad&Tobago \n",
      "\n",
      "        count       mean        std   min   25%   50%   75%   max\n",
      "salary                                                           \n",
      "<=50K    17.0  37.058824  12.477332  14.0  35.0  40.0  40.0  60.0\n",
      ">50K      2.0  40.000000   0.000000  40.0  40.0  40.0  40.0  40.0\n",
      "\n",
      "\n",
      "\n",
      "Greece \n",
      "\n",
      "        count       mean        std   min   25%   50%    75%   max\n",
      "salary                                                            \n",
      "<=50K    21.0  41.809524  16.857103   4.0  40.0  40.0  55.00  75.0\n",
      ">50K      8.0  50.625000  11.783008  35.0  40.0  50.0  61.25  65.0\n",
      "\n",
      "\n",
      "\n",
      "Nicaragua \n",
      "\n",
      "        count      mean       std   min    25%   50%    75%   max\n",
      "salary                                                           \n",
      "<=50K    32.0  36.09375  8.663454  11.0  30.00  40.0  40.00  60.0\n",
      ">50K      2.0  37.50000  3.535534  35.0  36.25  37.5  38.75  40.0\n",
      "\n",
      "\n",
      "\n",
      "Vietnam \n",
      "\n",
      "        count       mean        std   min   25%   50%   75%   max\n",
      "salary                                                           \n",
      "<=50K    62.0  37.193548  12.422664   1.0  40.0  40.0  40.0  77.0\n",
      ">50K      5.0  39.200000   1.788854  36.0  40.0  40.0  40.0  40.0\n",
      "\n",
      "\n",
      "\n",
      "Hong \n",
      "\n"
     ]
    },
    {
     "name": "stdout",
     "output_type": "stream",
     "text": [
      "        count       mean        std   min    25%   50%    75%   max\n",
      "salary                                                             \n",
      "<=50K    14.0  39.142857   4.294131  30.0  37.75  40.0  40.00  50.0\n",
      ">50K      6.0  45.000000  10.000000  40.0  40.00  40.0  43.75  65.0\n",
      "\n",
      "\n",
      "\n",
      "Ireland \n",
      "\n",
      "        count       mean        std   min   25%   50%   75%   max\n",
      "salary                                                           \n",
      "<=50K    19.0  40.947368   7.183884  25.0  38.0  40.0  42.0  55.0\n",
      ">50K      5.0  48.000000  10.954451  40.0  40.0  40.0  60.0  60.0\n",
      "\n",
      "\n",
      "\n",
      "Hungary \n",
      "\n",
      "        count  mean      std   min   25%   50%   75%   max\n",
      "salary                                                    \n",
      "<=50K    10.0  31.3  18.5954   3.0  20.0  30.0  47.5  60.0\n",
      ">50K      3.0  50.0  10.0000  40.0  45.0  50.0  55.0  60.0\n",
      "\n",
      "\n",
      "\n",
      "Holand-Netherlands \n",
      "\n",
      "        count  mean  std   min   25%   50%   75%   max\n",
      "salary                                                \n",
      "<=50K     1.0  40.0  NaN  40.0  40.0  40.0  40.0  40.0\n",
      "\n",
      "\n",
      "\n"
     ]
    }
   ],
   "source": [
    "for country in data['native-country'].unique():\n",
    "    print(country,'\\n')\n",
    "    print(data[data['native-country'] == country].groupby(['salary'])['hours-per-week'].describe())\n",
    "    print('\\n\\n')"
   ]
  },
  {
   "cell_type": "code",
   "execution_count": 146,
   "metadata": {},
   "outputs": [
    {
     "name": "stdout",
     "output_type": "stream",
     "text": [
      "        count       mean        std   min   25%   50%   75%   max\n",
      "salary                                                           \n",
      "<=50K    38.0  41.000000  11.902759  10.0  40.0  40.0  41.5  65.0\n",
      ">50K     24.0  47.958333  16.120414  21.0  40.0  42.5  50.0  99.0\n"
     ]
    }
   ],
   "source": [
    "print('Japan')\n",
    "print(data[data['native-country'] == 'Japan'].groupby(['salary'])['hours-per-week'].describe())"
   ]
  },
  {
   "cell_type": "code",
   "execution_count": null,
   "metadata": {},
   "outputs": [],
   "source": []
  }
 ],
 "metadata": {
  "anaconda-cloud": {},
  "kernelspec": {
   "display_name": "Python 3",
   "language": "python",
   "name": "python3"
  },
  "language_info": {
   "codemirror_mode": {
    "name": "ipython",
    "version": 3
   },
   "file_extension": ".py",
   "mimetype": "text/x-python",
   "name": "python",
   "nbconvert_exporter": "python",
   "pygments_lexer": "ipython3",
   "version": "3.7.6"
  }
 },
 "nbformat": 4,
 "nbformat_minor": 1
}
